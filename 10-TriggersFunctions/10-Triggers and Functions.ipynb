{
  "cells": [
    {
      "cell_type": "markdown",
      "metadata": {
        "id": "view-in-github",
        "colab_type": "text"
      },
      "source": [
        "<a href=\"https://colab.research.google.com/github/antonum/Redis-Workshops/blob/main/10-TriggersFunctions/10-Triggers%20and%20Functions.ipynb\" target=\"_parent\"><img src=\"https://colab.research.google.com/assets/colab-badge.svg\" alt=\"Open In Colab\"/></a>"
      ]
    },
    {
      "cell_type": "markdown",
      "metadata": {
        "id": "MvZnhXr0L3K3"
      },
      "source": [
        "# Triggers and Functions\n",
        "\n",
        "![Redis](https://redis.com/wp-content/themes/wpx/assets/images/logo-redis.svg?auto=webp&quality=85,75&width=120)\n",
        "\n",
        "The triggers and functions feature of Redis Stack and its documentation are currently in preview, and only available in Redis Stack 7.2 or later. Latest RedisStack is installed and used by default in this notebook (no additional actions required).\n",
        "\n",
        "The triggers and functions feature of Redis Stack allows running JavaScript functions inside Redis. These functions can be executed on-demand, by an event-driven trigger, or by a stream processing trigger.\n",
        "\n",
        "See documentation at: https://redis.io/docs/interact/programmability/triggers-and-functions/"
      ]
    },
    {
      "cell_type": "code",
      "execution_count": 51,
      "metadata": {
        "id": "maAiICvM-cTX"
      },
      "outputs": [],
      "source": [
        "# Install redis client\n",
        "!pip install -q redis"
      ]
    },
    {
      "cell_type": "markdown",
      "metadata": {
        "id": "yO8o80_fM5cG"
      },
      "source": [
        "### Install Redis Stack locally\n",
        "\n",
        "Even if you are using Redis Cloud you might need to install Redis Stack just for the cli tool `redis-cli`."
      ]
    },
    {
      "cell_type": "code",
      "execution_count": 33,
      "metadata": {
        "colab": {
          "base_uri": "https://localhost:8080/"
        },
        "id": "6CjMuWlOxYoZ",
        "outputId": "a406f35f-4b05-4889-d508-7c3a0401b69f"
      },
      "outputs": [
        {
          "output_type": "stream",
          "name": "stdout",
          "text": [
            "deb [signed-by=/usr/share/keyrings/redis-archive-keyring.gpg] https://packages.redis.io/deb jammy main\n",
            "Starting redis-stack-server, database path /var/lib/redis-stack\n"
          ]
        },
        {
          "output_type": "stream",
          "name": "stderr",
          "text": [
            "gpg: cannot open '/dev/tty': No such device or address\n",
            "curl: (23) Failed writing body\n"
          ]
        }
      ],
      "source": [
        "%%sh\n",
        "curl -fsSL https://packages.redis.io/gpg | sudo gpg --dearmor -o /usr/share/keyrings/redis-archive-keyring.gpg\n",
        "echo \"deb [signed-by=/usr/share/keyrings/redis-archive-keyring.gpg] https://packages.redis.io/deb $(lsb_release -cs) main\" | sudo tee /etc/apt/sources.list.d/redis.list\n",
        "sudo apt-get update  > /dev/null 2>&1\n",
        "sudo apt-get install redis-stack-server  > /dev/null 2>&1\n",
        "redis-stack-server --daemonize yes\n"
      ]
    },
    {
      "cell_type": "markdown",
      "metadata": {
        "id": "pD9QIlpeKs3o"
      },
      "source": [
        "### Setup Redis connection\n",
        "No changes needed if you are using in-notebook locally installed Redis Stack. If using Redis Cloud - enter your endpoint host, port and credentials here."
      ]
    },
    {
      "cell_type": "code",
      "execution_count": 34,
      "metadata": {
        "id": "x47s7mlR_zYB"
      },
      "outputs": [],
      "source": [
        "import redis\n",
        "import os\n",
        "REDIS_HOST = os.getenv(\"REDIS_HOST\", \"localhost\")\n",
        "REDIS_PORT = os.getenv(\"REDIS_PORT\", \"6379\")\n",
        "REDIS_PASSWORD = os.getenv(\"REDIS_PASSWORD\", \"\")\n",
        "#Replace values above with your own if using Redis Cloud instance\n",
        "#REDIS_HOST=\"redis-17231.c228.us-central1-1.gce.cloud.redislabs.com\"\n",
        "#REDIS_PORT=17231\n",
        "#REDIS_PASSWORD=\"0XKOePIFBCtuNvV6PhsXl3ysQY6XXXX\"\n",
        "\n",
        "#shortcut for redis-cli $REDIS_CONN command\n",
        "if REDIS_PASSWORD!=\"\":\n",
        "  os.environ[\"REDIS_CONN\"]=f\"-h {REDIS_HOST} -p {REDIS_PORT} -a {REDIS_PASSWORD} --no-auth-warning\"\n",
        "else:\n",
        "  os.environ[\"REDIS_CONN\"]=f\"-h {REDIS_HOST} -p {REDIS_PORT}\""
      ]
    },
    {
      "cell_type": "markdown",
      "metadata": {
        "id": "Mnyz8NjaNz8T"
      },
      "source": [
        "### Basic Test with Redis CLI"
      ]
    },
    {
      "cell_type": "code",
      "execution_count": 35,
      "metadata": {
        "colab": {
          "base_uri": "https://localhost:8080/"
        },
        "id": "6FFP3eCRBTzk",
        "outputId": "c9c668fd-1ea7-49db-f449-5109d7139b3c"
      },
      "outputs": [
        {
          "output_type": "stream",
          "name": "stdout",
          "text": [
            "PONG\n",
            "OK\n",
            "\"world\"\n"
          ]
        }
      ],
      "source": [
        "!redis-cli $REDIS_CONN PING\n",
        "!redis-cli $REDIS_CONN SET hello world\n",
        "!redis-cli $REDIS_CONN GET hello"
      ]
    },
    {
      "cell_type": "markdown",
      "metadata": {
        "id": "CXEoNDpHN5WU"
      },
      "source": [
        "### Basic Test with Python client"
      ]
    },
    {
      "cell_type": "code",
      "execution_count": 36,
      "metadata": {
        "colab": {
          "base_uri": "https://localhost:8080/"
        },
        "id": "DbKb8mnWQO-5",
        "outputId": "4366e448-2979-4d86-a434-e6f37095bdb8"
      },
      "outputs": [
        {
          "output_type": "execute_result",
          "data": {
            "text/plain": [
              "b'world'"
            ]
          },
          "metadata": {},
          "execution_count": 36
        }
      ],
      "source": [
        "r = redis.Redis(\n",
        "  host=REDIS_HOST,\n",
        "  port=REDIS_PORT,\n",
        "  password=REDIS_PASSWORD)\n",
        "\n",
        "r.get(\"hello\")\n"
      ]
    },
    {
      "cell_type": "markdown",
      "source": [
        "Create the function code. Code must start with the #!js prologue on a first line."
      ],
      "metadata": {
        "id": "E6NvX1Nr1PGp"
      }
    },
    {
      "cell_type": "code",
      "source": [
        "code = \"\"\"#!js api_version=1.0 name=lib\n",
        "\n",
        "redis.registerFunction('hello', ()=> {\n",
        "  return 'Hello from redis!'\n",
        "})\n",
        "\"\"\"\n"
      ],
      "metadata": {
        "id": "4gKdir92yk7D"
      },
      "execution_count": 37,
      "outputs": []
    },
    {
      "cell_type": "markdown",
      "source": [
        "## Create and execute function with redis-cli"
      ],
      "metadata": {
        "id": "3U9WL0S60SBP"
      }
    },
    {
      "cell_type": "code",
      "source": [
        "with open(\"tmp.js\", \"w\") as f:\n",
        "    f.write(code)\n",
        "!redis-cli $REDIS_CONN -x TFUNCTION LOAD REPLACE < ./tmp.js\n",
        "!redis-cli $REDIS_CONN TFCALL lib.hello 0"
      ],
      "metadata": {
        "id": "y8yVsW_dzdEP",
        "outputId": "ef65ad77-c168-44ed-8e5b-b6d3a3023d9d",
        "colab": {
          "base_uri": "https://localhost:8080/"
        }
      },
      "execution_count": 38,
      "outputs": [
        {
          "output_type": "stream",
          "name": "stdout",
          "text": [
            "OK\n",
            "\"Hello from redis!\"\n"
          ]
        }
      ]
    },
    {
      "cell_type": "code",
      "source": [
        "res = r.tfunction_load(code, replace=True)\n",
        "print(res)\n",
        "res = r.tfcall(lib_name=\"lib\", func_name=\"hello\")\n",
        "print(res)"
      ],
      "metadata": {
        "id": "M99IQmXy0fac",
        "outputId": "d64eeee6-b9db-4817-d800-9a0df3d622aa",
        "colab": {
          "base_uri": "https://localhost:8080/"
        }
      },
      "execution_count": 39,
      "outputs": [
        {
          "output_type": "stream",
          "name": "stdout",
          "text": [
            "b'OK'\n",
            "b'Hello from redis!'\n"
          ]
        }
      ]
    },
    {
      "cell_type": "markdown",
      "source": [
        "# Triggers\n",
        "\n",
        "Functions within Redis can respond to events using keyspace triggers. While the majority of these events are initiated by command invocations, they also include events that occur when a key expires or is removed from the database.\n",
        "\n",
        "For the full list of supported events, please refer to the Redis keyspace notifications page.\n",
        "\n",
        "The following code creates a new keyspace trigger that adds a new field to a new or updated hash with the latest update time."
      ],
      "metadata": {
        "id": "dtjvu-CM1-3V"
      }
    },
    {
      "cell_type": "code",
      "source": [
        "trigger_code = \"\"\"#!js api_version=1.0 name=myFirstLibrary\n",
        "\n",
        "redis.registerKeySpaceTrigger(\"consumer\", \"\", function(client, data){\n",
        "    if (client.call(\"type\", data.key) != \"hash\") {\n",
        "        // key is not a has, do not touch it.\n",
        "        return;\n",
        "    }\n",
        "    // get the current time in ms\n",
        "    var curr_time = client.call(\"time\")[0];\n",
        "    // set '__last_updated__' with the current time value\n",
        "    client.call('hset', data.key, '__Last_Updated__', curr_time);\n",
        "});\n",
        "\"\"\"\n",
        "res = r.tfunction_load(trigger_code, replace=True)\n",
        "print(res)"
      ],
      "metadata": {
        "id": "hpKbjW7V2VRC",
        "outputId": "cb56e29f-569e-422c-85cb-a9c007250a0d",
        "colab": {
          "base_uri": "https://localhost:8080/"
        }
      },
      "execution_count": 40,
      "outputs": [
        {
          "output_type": "stream",
          "name": "stdout",
          "text": [
            "b'OK'\n"
          ]
        }
      ]
    },
    {
      "cell_type": "code",
      "source": [
        "#create hash\n",
        "!redis-cli $REDIS_CONN hset hash1 field1 1\n",
        "\n",
        "#read hash\n",
        "!redis-cli $REDIS_CONN hgetall hash1"
      ],
      "metadata": {
        "id": "d-W8u4Tl2xBe",
        "outputId": "ef862c25-556c-4cfb-c5cd-fef782ecf278",
        "colab": {
          "base_uri": "https://localhost:8080/"
        }
      },
      "execution_count": 42,
      "outputs": [
        {
          "output_type": "stream",
          "name": "stdout",
          "text": [
            "(integer) 0\n",
            "1) \"field1\"\n",
            "2) \"1\"\n",
            "3) \"__Last_Updated__\"\n",
            "4) \"1698104001\"\n"
          ]
        }
      ]
    },
    {
      "cell_type": "code",
      "source": [
        "#list functions\n",
        "!redis-cli $REDIS_CONN TFUNCTION LIST WITHCODE"
      ],
      "metadata": {
        "id": "c5sbsAAd5Y3o",
        "outputId": "0dd7473e-39a3-4d39-d8eb-74e4a83e8fa2",
        "colab": {
          "base_uri": "https://localhost:8080/"
        }
      },
      "execution_count": 50,
      "outputs": [
        {
          "output_type": "stream",
          "name": "stdout",
          "text": [
            "1)  1) \"api_version\"\n",
            "    2) \"1.0\"\n",
            "    3) \"cluster_functions\"\n",
            "    4) (empty array)\n",
            "    5) \"code\"\n",
            "    6) \"#!js api_version=1.0 name=myFirstLibrary\\n\\nredis.registerKeySpaceTrigger(\\\"consumer\\\", \\\"\\\", function(client, data){\\n    if (client.call(\\\"type\\\", data.key) != \\\"hash\\\") {\\n        // key is not a has, do not touch it.\\n        return;\\n    }\\n    // get the current time in ms\\n    var curr_time = client.call(\\\"time\\\")[0];\\n    // set '__last_updated__' with the current time value\\n    client.call('hset', data.key, '__Last_Updated__', curr_time);\\n});\\n\"\n",
            "    7) \"configuration\"\n",
            "    8) (nil)\n",
            "    9) \"engine\"\n",
            "   10) \"js\"\n",
            "   11) \"functions\"\n",
            "   12) (empty array)\n",
            "   13) \"keyspace_triggers\"\n",
            "   14) 1) \"consumer\"\n",
            "   15) \"name\"\n",
            "   16) \"myFirstLibrary\"\n",
            "   17) \"pending_async_calls\"\n",
            "   18) (empty array)\n",
            "   19) \"pending_jobs\"\n",
            "   20) (integer) 0\n",
            "   21) \"stream_triggers\"\n",
            "   22) (empty array)\n",
            "   23) \"user\"\n",
            "   24) \"default\"\n",
            "2)  1) \"api_version\"\n",
            "    2) \"1.0\"\n",
            "    3) \"cluster_functions\"\n",
            "    4) (empty array)\n",
            "    5) \"code\"\n",
            "    6) \"#!js api_version=1.0 name=lib\\n\\nredis.registerFunction('hello', ()=> {\\n  return 'Hello from redis!'\\n})\\n\"\n",
            "    7) \"configuration\"\n",
            "    8) (nil)\n",
            "    9) \"engine\"\n",
            "   10) \"js\"\n",
            "   11) \"functions\"\n",
            "   12) 1) \"hello\"\n",
            "   13) \"keyspace_triggers\"\n",
            "   14) (empty array)\n",
            "   15) \"name\"\n",
            "   16) \"lib\"\n",
            "   17) \"pending_async_calls\"\n",
            "   18) (empty array)\n",
            "   19) \"pending_jobs\"\n",
            "   20) (integer) 0\n",
            "   21) \"stream_triggers\"\n",
            "   22) (empty array)\n",
            "   23) \"user\"\n",
            "   24) \"default\"\n"
          ]
        }
      ]
    }
  ],
  "metadata": {
    "colab": {
      "provenance": [],
      "include_colab_link": true
    },
    "kernelspec": {
      "display_name": "Python 3",
      "name": "python3"
    },
    "language_info": {
      "name": "python"
    }
  },
  "nbformat": 4,
  "nbformat_minor": 0
}